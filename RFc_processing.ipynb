{
  "cells": [
    {
      "cell_type": "markdown",
      "metadata": {
        "id": "4Vimax_GN1pL"
      },
      "source": [
        "# Data processing"
      ]
    },
    {
      "cell_type": "markdown",
      "metadata": {
        "id": "XN6UC1H-N1pN"
      },
      "source": [
        "## Imports and globals"
      ]
    },
    {
      "cell_type": "code",
      "execution_count": 153,
      "metadata": {
        "id": "iVLouVHXN1pN"
      },
      "outputs": [],
      "source": [
        "import pandas as pd\n",
        "from sklearn.ensemble import RandomForestClassifier\n",
        "from sklearn.model_selection import train_test_split\n",
        "from sklearn.metrics import accuracy_score\n",
        "import seaborn as sns\n",
        "import matplotlib.pyplot as plt\n",
        "\n",
        "FILE_NAME = \"datos-crudos.csv\"\n",
        "UNUSED_COLUMNS = [\"nombre\", \"historia\", \"fecha\", \"diagnostico\"]"
      ]
    },
    {
      "cell_type": "code",
      "execution_count": 154,
      "metadata": {
        "colab": {
          "base_uri": "https://localhost:8080/"
        },
        "id": "FSNSvwtuN1pO",
        "outputId": "fe39ae17-79cb-42bb-8017-f47b56b7aff5"
      },
      "outputs": [
        {
          "name": "stdout",
          "output_type": "stream",
          "text": [
            "                        nombre  edad  historia     fecha  cancer  diagnostico  \\\n",
            "0  DIMANA ALEKSANDROVA SLAVOVA  41.0  462830.0  19/04/22       1          NaN   \n",
            "1          ENRIQUE CLAVER SANZ  73.0   48040.0  14/12/22       1          NaN   \n",
            "2      FERNANDO CARRERES FALCO  67.0   46465.0  21/12/21       1          NaN   \n",
            "3           RAMON SEGURA LOPEZ  68.0  205449.0  04/04/23       1          NaN   \n",
            "4     JOSE MARIA SANCHO PARETS  83.0  200475.0  08/10/21       1          NaN   \n",
            "\n",
            "   filtrado-glomerular-estimado  glucosa creatinina  urea  ... eosinofilos  \\\n",
            "0                           NaN     83.0       0.67  29.0  ...         0.8   \n",
            "1                          43.0    154.0       1.60  82.0  ...         4.0   \n",
            "2                         149.0     94.0       0.55  22.0  ...         1.6   \n",
            "3                          97.0     83.0       0.70  30.0  ...         1.5   \n",
            "4                          66.0     96.0       1.07  40.0  ...         4.5   \n",
            "\n",
            "  basofilos    N    L    M    E    B plaquetas  MPV  \\\n",
            "0       0.3  9.1  1.6  0.6  0.1  0.0     488.0  6.6   \n",
            "1       0.5  4.4  3.2  0.6  0.3  0.0     335.0  9.3   \n",
            "2       0.2  6.7  3.1  0.6  0.2  0.0     452.0  9.3   \n",
            "3       0.5  6.3  1.6  0.8  0.1  0.0     549.0  8.1   \n",
            "4       0.5  3.7  3.8  0.3  0.4  0.0     244.0  8.9   \n",
            "\n",
            "  velocidad-sedimentacion-globular  \n",
            "0                              NaN  \n",
            "1                             51.0  \n",
            "2                              NaN  \n",
            "3                              NaN  \n",
            "4                              6.0  \n",
            "\n",
            "[5 rows x 59 columns]\n"
          ]
        }
      ],
      "source": [
        "df = pd.read_csv(FILE_NAME)\n",
        "print(df.head())"
      ]
    },
    {
      "cell_type": "code",
      "execution_count": 155,
      "metadata": {
        "id": "wwczI2U3N9Cr"
      },
      "outputs": [],
      "source": [
        "# Remove unused columns\n",
        "df = df.drop(columns=UNUSED_COLUMNS)"
      ]
    },
    {
      "cell_type": "code",
      "execution_count": 156,
      "metadata": {
        "id": "PAobBpqQPlrK"
      },
      "outputs": [],
      "source": [
        "# Convert every string into float value\n",
        "df = df.apply(pd.to_numeric, errors='coerce')"
      ]
    },
    {
      "cell_type": "code",
      "execution_count": 157,
      "metadata": {
        "id": "5FrKSkwNXZsK"
      },
      "outputs": [],
      "source": [
        "# Convert every value other than 0 in \"cancer\" to 1\n",
        "df['cancer'] = df['cancer'].apply(lambda x: 1 if x != 0 else x)"
      ]
    },
    {
      "cell_type": "markdown",
      "metadata": {},
      "source": [
        "## Random forest formula"
      ]
    },
    {
      "cell_type": "code",
      "execution_count": 158,
      "metadata": {},
      "outputs": [],
      "source": [
        "def RandomForest(iterations, _df, _target):\n",
        "    # Make a loop of train and test sepparations with different random states\n",
        "    results = []\n",
        "    for i in range(iterations):\n",
        "        # Prepare a random forest classifier and use df_filled with sepparated trained and test fragments\n",
        "        clf = RandomForestClassifier(n_estimators=100)\n",
        "        X_train, X_test, y_train, y_test = train_test_split(_df, _target, test_size=0.2, random_state=i)\n",
        "        # Train the classifier\n",
        "        clf.fit(X_train, y_train)\n",
        "        # Show results\n",
        "        y_pred = clf.predict(X_test)\n",
        "        accuracy = accuracy_score(y_test, y_pred)\n",
        "        # Save the resulting model in an array of results\n",
        "        results.append(clf)\n",
        "    return results, X_train, X_test, y_train, y_test"
      ]
    },
    {
      "cell_type": "code",
      "execution_count": 159,
      "metadata": {},
      "outputs": [],
      "source": [
        "def ConfusionMatrix(results, X_test, y_test):\n",
        "    # Create a resulting y_test and y_pred from the results\n",
        "    y_pred_m = []\n",
        "    y_test_m = []\n",
        "    for i in range(len(results)):\n",
        "        y_pred_m.extend(results[i].predict(X_test))\n",
        "        y_test_m.extend(y_test)\n",
        "    # Classification matrix with the real target and predicted target\n",
        "    sns.heatmap(pd.crosstab(y_test_m, y_pred_m, rownames=['Real'], colnames=['Predicción']), annot=True, fmt='d')\n",
        "    plt.show()\n",
        "    return y_test_m, y_pred_m"
      ]
    },
    {
      "cell_type": "markdown",
      "metadata": {
        "id": "GdPI7KSOQN_p"
      },
      "source": [
        "## Full data classification"
      ]
    },
    {
      "cell_type": "code",
      "execution_count": 160,
      "metadata": {
        "colab": {
          "base_uri": "https://localhost:8080/"
        },
        "id": "ijOqwVtiOTj5",
        "outputId": "1b4ba875-d3b2-491e-cb0a-7e59639a778f"
      },
      "outputs": [
        {
          "name": "stdout",
          "output_type": "stream",
          "text": [
            "Index(['cancer', 'glucosa', 'GPT', 'sodio', 'cloruro'], dtype='object')\n"
          ]
        }
      ],
      "source": [
        "# Drop columns that have at least one empty data\n",
        "df_full_data = df.dropna(axis=1)\n",
        "# Print the columns names\n",
        "print(df_full_data.columns)"
      ]
    },
    {
      "cell_type": "code",
      "execution_count": 161,
      "metadata": {
        "id": "U8WaaEMxPQ45"
      },
      "outputs": [],
      "source": [
        "# Sepparate the \"cancer\" column into a target dataframe\n",
        "target_full_data = df_full_data[\"cancer\"]\n",
        "# Drop the \"cancer\" column from the dataframe\n",
        "df_full_data = df_full_data.drop(columns=[\"cancer\"])"
      ]
    },
    {
      "cell_type": "code",
      "execution_count": 162,
      "metadata": {},
      "outputs": [],
      "source": [
        "# Make a loop of train and test sepparations with different random states\n",
        "results = []\n",
        "results, X_train, X_test, y_train, y_test = RandomForest(10, df_full_data, target_full_data)"
      ]
    },
    {
      "cell_type": "code",
      "execution_count": 163,
      "metadata": {},
      "outputs": [
        {
          "data": {
            "image/png": "[encoded data removed]",
            "text/plain": [
              "<Figure size 640x480 with 2 Axes>"
            ]
          },
          "metadata": {},
          "output_type": "display_data"
        }
      ],
      "source": [
        "y_test_m, y_pred_m = ConfusionMatrix(results, X_test, y_test)"
      ]
    },
    {
      "cell_type": "markdown",
      "metadata": {
        "id": "uzCmt53NQUsp"
      },
      "source": [
        "## Filling data"
      ]
    },
    {
      "cell_type": "code",
      "execution_count": 164,
      "metadata": {
        "id": "oKzHhW_DQWxB"
      },
      "outputs": [],
      "source": [
        "# On df assume an empty dala cell has the same value as the mode of that column, set the result and save it in a dataframe\n",
        "df_filled = df.apply(lambda x: x.fillna(x.mode()[0]) if x.dtype == \"object\" else x)"
      ]
    },
    {
      "cell_type": "markdown",
      "metadata": {
        "id": "wA19IY6LQl3J"
      },
      "source": [
        "### Random Forest"
      ]
    },
    {
      "cell_type": "code",
      "execution_count": 165,
      "metadata": {
        "colab": {
          "base_uri": "https://localhost:8080/"
        },
        "id": "8ZkYi8-yQnnK",
        "outputId": "045a96d2-d338-4908-a73e-0e9b4446dda2"
      },
      "outputs": [],
      "source": [
        "# target is \"cancer\"\n",
        "target_filled = df_filled[\"cancer\"]\n",
        "# Drop the \"cancer\" column from the dataframe\n",
        "df_filled = df_filled.drop(columns=[\"cancer\"])\n",
        "results, X_train, X_test, y_train, y_test = RandomForest(10, df_filled, target_filled)"
      ]
    },
    {
      "cell_type": "code",
      "execution_count": 166,
      "metadata": {
        "colab": {
          "base_uri": "https://localhost:8080/",
          "height": 455
        },
        "id": "iE4HYhOQXMze",
        "outputId": "f7a366cc-0185-4feb-ca0f-2bfdba0cd635"
      },
      "outputs": [
        {
          "data": {
            "image/png": "[encoded data removed]",
            "text/plain": [
              "<Figure size 640x480 with 2 Axes>"
            ]
          },
          "metadata": {},
          "output_type": "display_data"
        }
      ],
      "source": [
        "y_test_m, y_pred_m = ConfusionMatrix(results, X_test, y_test)"
      ]
    },
    {
      "cell_type": "markdown",
      "metadata": {},
      "source": [
        "## Blood data"
      ]
    },
    {
      "cell_type": "code",
      "execution_count": 167,
      "metadata": {},
      "outputs": [],
      "source": [
        "BLOOD_COLUMNS = [\"cancer\", \"hematies\",\"hemoglobina\",\"hematocrito\",\"MCV\",\"MCH\",\"MCHC\",\"RDW\",\"leucocitos\",\"neutrofilos\",\"linfocitos\",\"monocitos\",\"eosinofilos\",\"basofilos\",\"N\",\"L\",\"M\",\"E\",\"B\",\"plaquetas\",\"MPV\",\"velocidad-sedimentacion-globular\"]"
      ]
    },
    {
      "cell_type": "code",
      "execution_count": 168,
      "metadata": {},
      "outputs": [
        {
          "name": "stdout",
          "output_type": "stream",
          "text": [
            "36\n",
            "Index(['hematies', 'hemoglobina', 'hematocrito', 'MCV', 'MCH', 'MCHC', 'RDW',\n",
            "       'leucocitos', 'neutrofilos', 'linfocitos', 'monocitos', 'eosinofilos',\n",
            "       'basofilos', 'N', 'L', 'M', 'E', 'B', 'plaquetas', 'MPV',\n",
            "       'velocidad-sedimentacion-globular'],\n",
            "      dtype='object')\n"
          ]
        }
      ],
      "source": [
        "df_blood = df[BLOOD_COLUMNS]\n",
        "# Sepparate cancer target\n",
        "target_blood = df_blood[\"cancer\"]\n",
        "df_blood = df_blood.drop(\"cancer\", axis=1)\n",
        "print(len(df_blood))\n",
        "print(df_blood.columns)"
      ]
    },
    {
      "cell_type": "code",
      "execution_count": 169,
      "metadata": {},
      "outputs": [],
      "source": [
        "results, X_train, X_test, y_train, y_test = RandomForest(10, df_blood, target_blood)"
      ]
    },
    {
      "cell_type": "code",
      "execution_count": 170,
      "metadata": {},
      "outputs": [
        {
          "data": {
            "image/png": "[encoded data removed]",
            "text/plain": [
              "<Figure size 640x480 with 2 Axes>"
            ]
          },
          "metadata": {},
          "output_type": "display_data"
        }
      ],
      "source": [
        "y_test_m, y_pred_m = ConfusionMatrix(results, X_test, y_test)"
      ]
    }
  ],
  "metadata": {
    "colab": {
      "provenance": []
    },
    "kernelspec": {
      "display_name": "Python 3",
      "language": "python",
      "name": "python3"
    },
    "language_info": {
      "codemirror_mode": {
        "name": "ipython",
        "version": 3
      },
      "file_extension": ".py",
      "mimetype": "text/x-python",
      "name": "python",
      "nbconvert_exporter": "python",
      "pygments_lexer": "ipython3",
      "version": "3.10.11"
    }
  },
  "nbformat": 4,
  "nbformat_minor": 0
}
